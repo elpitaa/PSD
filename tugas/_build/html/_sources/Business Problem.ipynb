{
 "cells": [
  {
   "cell_type": "markdown",
   "id": "4e334df3",
   "metadata": {},
   "source": [
    "## Business Problem\n",
    "\n"
   ]
  },
  {
   "cell_type": "markdown",
   "id": "f2b03f31",
   "metadata": {},
   "source": [
    "### 1. Latar Belakang\n"
   ]
  },
  {
   "cell_type": "markdown",
   "id": "c3200186",
   "metadata": {},
   "source": [
    "Dalam bidang florikultura dan penelitian biologi, pemahaman terhadap karakteristik bunga penting untuk menunjang proses budidaya, distribusi, maupun riset. Bunga Iris memiliki tiga spesies utama (Setosa, Versicolor, Virginica) yang dibedakan dari ukuran sepal dan petal. Namun, variasi ukuran antar bunga membuat klasifikasi manual memakan waktu dan rawan kesalahan. Oleh karena itu, analisis data diperlukan untuk memahami pola numerik dan distribusi kelas sebelum digunakan dalam klasifikasi lebih lanjut."
   ]
  },
  {
   "cell_type": "markdown",
   "id": "07a187c3",
   "metadata": {},
   "source": [
    "### 2. Business Problem"
   ]
  },
  {
   "cell_type": "markdown",
   "id": "73e3c0f4",
   "metadata": {},
   "source": [
    "Bagaimana memanfaatkan data morfologi bunga (panjang dan lebar sepal serta petal) untuk:\n",
    "\n",
    "* Mendeskripsikan karakteristik numerik masing-masing atribut.\n",
    "\n",
    "* Mengeksplorasi distribusi kelas spesies Iris secara visual.\n",
    "\n",
    "* Menyediakan dasar informasi yang dapat dipakai dalam analisis dan pengambilan keputusan berikutnya."
   ]
  },
  {
   "cell_type": "markdown",
   "id": "e704c355",
   "metadata": {},
   "source": [
    "### 3. Tujuan Analisis"
   ]
  },
  {
   "cell_type": "markdown",
   "id": "688b07e3",
   "metadata": {},
   "source": [
    "* Mendeskripsikan data Iris berdasarkan tipe data.\n",
    "\n",
    "* Menghitung nilai minimum, maksimum, dan rata-rata untuk setiap atribut numerik.\n",
    "\n",
    "* Mengidentifikasi distribusi jumlah masing-masing kelas spesies melalui grafik batang.\n",
    "\n",
    "* Menyediakan insight awal yang bisa mendukung proses klasifikasi dan penelitian lanjutan."
   ]
  },
  {
   "cell_type": "markdown",
   "id": "8bc56532",
   "metadata": {},
   "source": [
    "### 4. Manfaat"
   ]
  },
  {
   "cell_type": "markdown",
   "id": "e020d264",
   "metadata": {},
   "source": [
    "* Memberikan gambaran awal yang jelas tentang data, sehingga mempermudah analisis lebih lanjut.\n",
    "\n",
    "* Meningkatkan efisiensi proses identifikasi spesies dengan dukungan data statistik dan visual.\n",
    "\n",
    "* Menjadi dasar pengambilan keputusan berbasis data di bidang pertanian, florikultura, maupun riset biologi."
   ]
  }
 ],
 "metadata": {
  "language_info": {
   "name": "python"
  }
 },
 "nbformat": 4,
 "nbformat_minor": 5
}
