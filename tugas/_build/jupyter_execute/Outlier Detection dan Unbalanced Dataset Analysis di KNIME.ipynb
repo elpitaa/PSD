{
 "cells": [
  {
   "cell_type": "markdown",
   "id": "c0494fff",
   "metadata": {},
   "source": [
    "## Outlier Detection dan Unbalanced Dataset Analysis di KNIME"
   ]
  },
  {
   "cell_type": "markdown",
   "id": "0cef245b",
   "metadata": {},
   "source": [
    "### Tugas Outlier Detection, Missing Values, Unbalanced Dataset Analysis Dengan KNIME\n"
   ]
  },
  {
   "cell_type": "markdown",
   "id": "0e8574c9",
   "metadata": {},
   "source": [
    "## Tujuan\n",
    "Proyek ini bertujuan untuk:\n",
    "1. Melakukan pembersihan data (data preprocessing).\n",
    "2. Mendeteksi dan menangani outlier pada dataset.\n",
    "3. Mengatasi ketidakseimbangan kelas menggunakan metode SMOTE (Synthetic Minority Oversampling Technique).\n",
    "4. Melakukan visualisasi hasil dengan Scatter Plot untuk melihat distribusi data setelah balancing.\n"
   ]
  },
  {
   "cell_type": "markdown",
   "id": "0c58e6b7",
   "metadata": {},
   "source": [
    "## Diagram Workflow KNIME\n",
    "Berikut diagram workflow yang digunakan pada proyek ini.\n",
    "\n",
    "![Alur](gambar/alur_workflow.png)"
   ]
  },
  {
   "cell_type": "markdown",
   "id": "21e72436",
   "metadata": {},
   "source": [
    "## Langkah-langkah Analisis\n",
    "\n",
    "### 1. PostgreSQL Connector\n",
    "Node ini digunakan untuk menghubungkan KNIME dengan database PostgreSQL. Setelah koneksi berhasil, node berikutnya dapat mengakses tabel di database secara langsung.\n",
    "\n",
    "\n",
    "### 2. DB Table Selector dan DB Reader\n",
    "- **DB Table Selector** digunakan untuk memilih tabel dari database.  \n",
    "- **DB Reader** membaca isi tabel menjadi data table di KNIME.\n",
    "\n",
    "Dataset berisi kolom:\n",
    "`protein_name`, `mcg`, `gvh`, `lip`, `chg`, `aac`, `alm1`, `alm2`, `localization_class`\n",
    "\n",
    "\n",
    "### 3. Missing Value\n",
    "Node Missing Value digunakan untuk menangani nilai kosong.  \n",
    "- Kolom numerik diisi dengan nilai rata-rata (*mean*).  \n",
    "- Kolom kategorikal diisi dengan nilai yang paling sering muncul (*mode*).\n",
    "\n",
    "Output: dataset tanpa nilai kosong.\n",
    "\n",
    "\n",
    "### 4. Numeric Outliers\n",
    "Node Numeric Outliers mendeteksi nilai-nilai ekstrem berdasarkan metode statistik seperti Z-score.  \n",
    "Baris dengan nilai jauh dari distribusi normal dianggap sebagai outlier.\n",
    "\n",
    "Output: dataset dengan label apakah baris tersebut termasuk outlier.\n",
    "\n",
    "\n",
    "### 5. SMOTE (Synthetic Minority Oversampling Technique)\n",
    "Metode ini digunakan untuk menyeimbangkan distribusi data yang tidak seimbang antar kelas.\n",
    "\n",
    "Pengaturan:\n",
    "- Class column: `localization_class`\n",
    "- Nearest neighbors: 5\n",
    "- Oversample minority classes: aktif\n",
    "\n",
    "Output: dataset dengan distribusi kelas yang seimbang.\n",
    "\n",
    "\n",
    "### 6. Scatter Plot\n",
    "Node Scatter Plot digunakan untuk melihat hubungan antara dua fitur numerik, misalnya:\n",
    "- Horizontal (X): `mcg`\n",
    "- Vertical (Y): `gvh`\n",
    "\n",
    "Visualisasi membantu memeriksa persebaran data setelah SMOTE.\n",
    "\n",
    "![Scatter Plot](gambar/Scatter_Plot.png)\n"
   ]
  },
  {
   "cell_type": "markdown",
   "id": "7e2253ff",
   "metadata": {},
   "source": [
    "## Hasil Analisis\n",
    "\n",
    "| Tahapan | Hasil | Keterangan |\n",
    "|----------|--------|-------------|\n",
    "| Missing Value | Nilai kosong berhasil ditangani | Semua kolom diisi dengan metode statistik |\n",
    "| Numeric Outliers | Outlier terdeteksi pada beberapa data | Bisa dianalisis lebih lanjut |\n",
    "| SMOTE | Dataset seimbang antar kelas | Kelas minoritas berhasil ditambah |\n",
    "| Scatter Plot | Distribusi data terlihat merata | Pola antar fitur menjadi lebih seimbang |\n"
   ]
  },
  {
   "cell_type": "markdown",
   "id": "edb187b2",
   "metadata": {},
   "source": [
    "## Alamat Share Workflow KNIME\n",
    "https://hub.knime.com/s/7sNOhis4RrSqaTL5"
   ]
  }
 ],
 "metadata": {
  "kernelspec": {
   "display_name": "Python 3",
   "language": "python",
   "name": "python3"
  },
  "language_info": {
   "codemirror_mode": {
    "name": "ipython",
    "version": 3
   },
   "file_extension": ".py",
   "mimetype": "text/x-python",
   "name": "python",
   "nbconvert_exporter": "python",
   "pygments_lexer": "ipython3",
   "version": "3.12.1"
  }
 },
 "nbformat": 4,
 "nbformat_minor": 5
}