{
 "cells": [
  {
   "cell_type": "markdown",
   "id": "2ea72b5f",
   "metadata": {},
   "source": [
    "## Tugas Power BI"
   ]
  },
  {
   "cell_type": "markdown",
   "id": "c48d09d1",
   "metadata": {},
   "source": [
    "### 1. min max dari setiap kolom dan rata rata dari setiap kolom"
   ]
  },
  {
   "cell_type": "markdown",
   "id": "1e8c484b",
   "metadata": {},
   "source": [
    "![min max](gambar/min_max_rata2.png)\n",
    "### Penjelasan Gambar\n",
    "\n",
    "- **Tabel Min** → menampilkan nilai terkecil dari tiap kolom:  \n",
    "  - Petal length minimum = **1.0**  \n",
    "  - Petal width minimum = **0.1**  \n",
    "  - Sepal length minimum = **4.3**  \n",
    "  - Sepal width minimum = **2.0**\n",
    "\n",
    "- **Tabel Max** → menampilkan nilai terbesar dari tiap kolom:  \n",
    "  - Petal length maksimum = **6.9**  \n",
    "  - Petal width maksimum = **2.5**  \n",
    "  - Sepal length maksimum = **7.9**  \n",
    "  - Sepal width maksimum = **4.4**\n",
    "\n",
    "- **Tabel Average** → menampilkan rata-rata tiap kolom:  \n",
    "  - Rata-rata petal length = **3.76**  \n",
    "  - Rata-rata petal width = **1.20**  \n",
    "  - Rata-rata sepal length = **5.84**  \n",
    "  - Rata-rata sepal width = **3.05**\n",
    "\n",
    "**Analisis Singkat**  \n",
    "- Sepal length memiliki rentang nilai paling lebar (4.3 – 7.9), menunjukkan variasi cukup besar.  \n",
    "- Petal width memiliki rentang paling kecil (0.1 – 2.5), menunjukkan variasi relatif sempit.  \n",
    "- Secara umum, sepal lebih besar daripada petal baik panjang maupun lebar.  \n",
    "- Nilai rata-rata dapat digunakan sebagai gambaran umum karakteristik bunga sebelum analisis klasifikasi lebih lanjut.  "
   ]
  },
  {
   "cell_type": "markdown",
   "id": "5fed4bb9",
   "metadata": {},
   "source": [
    "### 2. jumlah setiap kelas ditampilkan dalam grafik batang"
   ]
  },
  {
   "cell_type": "markdown",
   "id": "4a0c54de",
   "metadata": {},
   "source": [
    "![kelas](gambar/data_per_kelas.png)\n",
    "### Penjelasan Gambar\n",
    "\n",
    "- Dataset terdiri dari **3 kelas spesies**: *Iris-setosa*, *Iris-versicolor*, dan *Iris-virginica*.  \n",
    "- Masing-masing kelas memiliki jumlah data **50**, sehingga dataset seimbang.  \n",
    "- Keseimbangan ini penting agar algoritma machine learning tidak bias terhadap salah satu kelas.  \n",
    "- Grafik batang menunjukkan distribusi yang merata antar kelas sehingga dataset ideal untuk percobaan klasifikasi.  "
   ]
  }
 ],
 "metadata": {
  "language_info": {
   "codemirror_mode": {
    "name": "ipython",
    "version": 3
   },
   "file_extension": ".py",
   "mimetype": "text/x-python",
   "name": "python",
   "nbconvert_exporter": "python",
   "pygments_lexer": "ipython3",
   "version": "3.12.1"
  }
 },
 "nbformat": 4,
 "nbformat_minor": 5
}