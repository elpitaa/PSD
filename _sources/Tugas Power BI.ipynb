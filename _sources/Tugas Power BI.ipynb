{
 "cells": [
  {
   "cell_type": "markdown",
   "id": "2ea72b5f",
   "metadata": {},
   "source": [
    "## Tugas Power BI"
   ]
  },
  {
   "cell_type": "markdown",
   "id": "c48d09d1",
   "metadata": {},
   "source": [
    "### 1. min max dari setiap kolom dan rata rata dari setiap kolom"
   ]
  },
  {
   "cell_type": "markdown",
   "id": "1e8c484b",
   "metadata": {},
   "source": [
    "![min_max](gambar/min_max_rata2.png)\n",
    "### Penjelasan Gambar\n",
    "\n",
    "| Statistik        | Petal Length | Petal Width | Sepal Length | Sepal Width |\n",
    "|-----------------|-------------|-------------|-------------|-------------|\n",
    "| **Minimum**     | 1.0         | 0.1         | 4.3         | 2.0         |\n",
    "| **Maksimum**    | 6.9         | 2.5         | 7.9         | 4.4         |\n",
    "| **Rata-rata**   | 3.76        | 1.20        | 5.84        | 3.05        |\n",
    "\n",
    "### Analisis Singkat\n",
    "- Sepal length memiliki rentang nilai paling lebar (4.3 – 7.9), menunjukkan variasi cukup besar.  \n",
    "- Petal width memiliki rentang paling kecil (0.1 – 2.5), menunjukkan variasi relatif sempit.  \n",
    "- Secara umum, sepal lebih besar daripada petal baik panjang maupun lebar.  \n",
    "- Nilai rata-rata dapat digunakan sebagai gambaran umum karakteristik bunga sebelum analisis klasifikasi lebih lanjut.\n",
    " "
   ]
  },
  {
   "cell_type": "markdown",
   "id": "5fed4bb9",
   "metadata": {},
   "source": [
    "### 2. jumlah setiap kelas ditampilkan dalam grafik batang"
   ]
  },
  {
   "cell_type": "markdown",
   "id": "4a0c54de",
   "metadata": {},
   "source": [
    "![kelas](gambar/data_per_kelas.png)\n",
    "### Penjelasan Gambar\n",
    "\n",
    "- Dataset terdiri dari **3 kelas spesies**: *Iris-setosa*, *Iris-versicolor*, dan *Iris-virginica*.  \n",
    "- Masing-masing kelas memiliki jumlah data **50**, sehingga dataset seimbang.  \n",
    "- Keseimbangan ini penting agar algoritma machine learning tidak bias terhadap salah satu kelas.  \n",
    "- Grafik batang menunjukkan distribusi yang merata antar kelas sehingga dataset ideal untuk percobaan klasifikasi.  "
   ]
  }
 ],
 "metadata": {
  "language_info": {
   "name": "python"
  }
 },
 "nbformat": 4,
 "nbformat_minor": 5
}
